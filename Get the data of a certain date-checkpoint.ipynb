{
 "cells": [
  {
   "cell_type": "code",
   "execution_count": null,
   "id": "ad606d4b",
   "metadata": {},
   "outputs": [],
   "source": [
    "import yfinance as yf\n",
    "import datetime as dt\n",
    "import pandas as pd\n",
    "\n",
    "\n",
    "tickerSymbol = 'BTC-USD'\n",
    "start_date = '2015-01-01'\n",
    "end_date = dt.datetime.now()  \n",
    "\n",
    "tickerData = yf.Ticker(tickerSymbol)\n",
    "tickerDf = tickerData.history(period='1d', start=start_date, end=end_date)\n",
    "\n",
    "\n",
    "date_of_interest = '2017-12-17'\n",
    "\n",
    "\n",
    "date_of_interest = pd.to_datetime(date_of_interest).strftime('%Y-%m-%d')\n",
    "\n",
    "if date_of_interest in tickerDf.index.strftime('%Y-%m-%d'):\n",
    "    day_data = tickerDf.loc[date_of_interest]\n",
    "    print(f\"Price information for {tickerSymbol} on {date_of_interest}:\")\n",
    "    print(f\"Opening: {day_data['Open']}\")\n",
    "    print(f\"Highest: {day_data['High']}\")\n",
    "    print(f\"Lowest: {day_data['Low']}\")\n",
    "    print(f\"Closing: {day_data['Close']}\")\n",
    "\n",
    "    previous_day = tickerDf.index[tickerDf.index.get_loc(date_of_interest) - 1]\n",
    "    prev_day_close = tickerDf.loc[previous_day]['Close']\n",
    "    percentage_change = ((day_data['Close'] - prev_day_close) / prev_day_close) * 100\n",
    "    print(f\"Percentage change from previous day's close: {percentage_change:.2f}%\")\n",
    "else:\n",
    "    print(f\"No data for {tickerSymbol} on {date_of_interest}\")\n"
   ]
  }
 ],
 "metadata": {
  "kernelspec": {
   "display_name": "Python 3 (ipykernel)",
   "language": "python",
   "name": "python3"
  },
  "language_info": {
   "codemirror_mode": {
    "name": "ipython",
    "version": 3
   },
   "file_extension": ".py",
   "mimetype": "text/x-python",
   "name": "python",
   "nbconvert_exporter": "python",
   "pygments_lexer": "ipython3",
   "version": "3.11.5"
  }
 },
 "nbformat": 4,
 "nbformat_minor": 5
}
